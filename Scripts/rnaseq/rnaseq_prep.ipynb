{
 "cells": [
  {
   "cell_type": "code",
   "execution_count": 2,
   "id": "049e405c-cea5-4957-a477-5a509167c0f0",
   "metadata": {},
   "outputs": [],
   "source": [
    "import pandas as pd\n",
    "\n"
   ]
  },
  {
   "cell_type": "code",
   "execution_count": 18,
   "id": "d9f79e46-c633-471b-b319-2c86373f0a27",
   "metadata": {},
   "outputs": [],
   "source": [
    "drugs=['UF010','YX968','YX6862']\n",
    "files=['UF010_GSE228026.top.table.tsv','YX968_GSE228026.top.table.tsv',\n",
    "       'YX6862_GSE228026.top.table.tsv']\n"
   ]
  },
  {
   "cell_type": "code",
   "execution_count": 26,
   "id": "3ab938bd-376f-492f-a462-be49f76e96d3",
   "metadata": {},
   "outputs": [],
   "source": [
    "drugs=['UF010','YX968','YX6862']\n",
    "files=['UF010_GSE228026.top.table.tsv','YX968_GSE228026.top.table.tsv',\n",
    "       'YX6862_GSE228026.top.table.tsv']\n"
   ]
  },
  {
   "cell_type": "code",
   "execution_count": 28,
   "id": "66168f91-b419-4123-85f4-44e7e025606b",
   "metadata": {},
   "outputs": [
    {
     "name": "stdout",
     "output_type": "stream",
     "text": [
      "UF010 regulated\n",
      "no      13867\n",
      "down     3934\n",
      "up       1222\n",
      "Name: count, dtype: int64\n",
      "YX968 regulated\n",
      "no      14618\n",
      "down     1825\n",
      "up       1650\n",
      "Name: count, dtype: int64\n",
      "YX6862 regulated\n",
      "no      15174\n",
      "up       1421\n",
      "down     1380\n",
      "Name: count, dtype: int64\n"
     ]
    }
   ],
   "source": [
    "for i in range(len(drugs)):\n",
    "    df = pd.read_csv(files[i], sep=\"\\t\") \n",
    "    thres=0\n",
    "    if drugs[i]=='UF010':\n",
    "        thres=1\n",
    "        \n",
    "    df['regulated'] = 'no'  # Default to 'no' (non-regulated)\n",
    "    df.loc[(df['log2FoldChange'] > 1 * thres) & (df['padj'] < 0.05), 'regulated'] = 'up'\n",
    "    df.loc[(df['log2FoldChange'] < -1 * thres) & (df['padj'] < 0.05), 'regulated'] = 'down'\n",
    "    #df['GO_IDS']= df['GOFunctionID'].replace(' ', '_', regex=True).replace('///', ' ', regex=True) + ' ' + \\\n",
    "    #               df['GOProcessID'].replace(' ', '_', regex=True).replace('///', ' ', regex=True)  + ' '  + \\\n",
    "    #            df['GOComponentID'].replace(' ', '_', regex=True).replace('///', ' ', regex=True)\n",
    "    df['GO_IDS']= df['GOFunctionID'].replace(' ', '_', regex=True).replace('///', ' ', regex=True) + ' ' + \\\n",
    "                   df['GOProcessID'].replace(' ', '_', regex=True).replace('///', ' ', regex=True)  \n",
    "    df = df.rename(columns={'Symbol': 'gene'})   \n",
    "    df = df[['gene','regulated','GO_IDS']]\n",
    "    print(drugs[i],df.regulated.value_counts())\n",
    "    df.to_csv(drugs[i]+'.csv',index=False)"
   ]
  },
  {
   "cell_type": "code",
   "execution_count": null,
   "id": "9428cce2-197f-4574-aeae-ad5fcc17ff6e",
   "metadata": {},
   "outputs": [],
   "source": []
  },
  {
   "cell_type": "code",
   "execution_count": 33,
   "id": "190b57e7-a162-48bf-8fd2-d4a1b37a3560",
   "metadata": {
    "scrolled": true
   },
   "outputs": [],
   "source": [
    "drugs=['A2058','SKMEL2']\n",
    "files=['A2058_GSE125565.top.table.tsv','SKMEL2_GSE125565.top.table.tsv']"
   ]
  },
  {
   "cell_type": "code",
   "execution_count": 36,
   "id": "ca4826ff-a62e-4651-a5ce-a63a93e274d9",
   "metadata": {},
   "outputs": [
    {
     "name": "stdout",
     "output_type": "stream",
     "text": [
      "Index(['ID', 'adj.P.Val', 'P.Value', 't', 'B', 'logFC', 'RANGE_STRAND',\n",
      "       'RANGE_START', 'RANGE_END', 'GB_ACC', 'SPOT_ID', 'RANGE_GB'],\n",
      "      dtype='object')\n",
      "A2058 regulated\n",
      "no      26054\n",
      "down     2674\n",
      "up        668\n",
      "Name: count, dtype: int64\n",
      "Index(['ID', 'adj.P.Val', 'P.Value', 't', 'B', 'logFC', 'RANGE_STRAND',\n",
      "       'RANGE_START', 'RANGE_END', 'GB_ACC', 'SPOT_ID', 'RANGE_GB'],\n",
      "      dtype='object')\n",
      "SKMEL2 regulated\n",
      "down    19390\n",
      "no       6432\n",
      "up       3574\n",
      "Name: count, dtype: int64\n"
     ]
    }
   ],
   "source": [
    "for i in range(len(drugs)):\n",
    "    df = pd.read_csv(files[i], sep=\"\\t\") \n",
    "    print(df.columns)\n",
    "    df['regulated'] = 'no'  # Default to 'no' (non-regulated)\n",
    "    df.loc[(df['logFC'] > 0) & (df['adj.P.Val'] < 0.05), 'regulated'] = 'up'\n",
    "    df.loc[(df['logFC'] < 0) & (df['adj.P.Val'] < 0.05), 'regulated'] = 'down'\n",
    "     \n",
    "    print(drugs[i],df.regulated.value_counts())\n",
    "    df.to_csv(drugs[i]+'.csv',index=False)"
   ]
  },
  {
   "cell_type": "code",
   "execution_count": null,
   "id": "900a763f-ddc1-43f4-8618-9e834c4152cf",
   "metadata": {},
   "outputs": [],
   "source": []
  },
  {
   "cell_type": "code",
   "execution_count": null,
   "id": "f8550c94-a063-464f-9e5a-f6fd81b8d82c",
   "metadata": {},
   "outputs": [],
   "source": []
  },
  {
   "cell_type": "code",
   "execution_count": null,
   "id": "7d94e70b-e30c-4f10-adf2-4f0dabd6e143",
   "metadata": {},
   "outputs": [],
   "source": []
  },
  {
   "cell_type": "code",
   "execution_count": null,
   "id": "99822eab-85e7-4235-b66d-b84cf3326ef3",
   "metadata": {},
   "outputs": [],
   "source": []
  }
 ],
 "metadata": {
  "kernelspec": {
   "display_name": "Python 3 (ipykernel)",
   "language": "python",
   "name": "python3"
  },
  "language_info": {
   "codemirror_mode": {
    "name": "ipython",
    "version": 3
   },
   "file_extension": ".py",
   "mimetype": "text/x-python",
   "name": "python",
   "nbconvert_exporter": "python",
   "pygments_lexer": "ipython3",
   "version": "3.12.5"
  }
 },
 "nbformat": 4,
 "nbformat_minor": 5
}
